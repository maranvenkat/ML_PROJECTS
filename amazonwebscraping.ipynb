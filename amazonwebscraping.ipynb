{
  "nbformat": 4,
  "nbformat_minor": 0,
  "metadata": {
    "colab": {
      "provenance": []
    },
    "kernelspec": {
      "name": "python3",
      "display_name": "Python 3"
    },
    "language_info": {
      "name": "python"
    }
  },
  "cells": [
    {
      "cell_type": "code",
      "execution_count": null,
      "metadata": {
        "colab": {
          "base_uri": "https://localhost:8080/"
        },
        "id": "oq9epJPIirlz",
        "outputId": "9a392eeb-be63-4a91-d702-cb9784d6dd19"
      },
      "outputs": [
        {
          "output_type": "stream",
          "name": "stdout",
          "text": [
            "Collecting bs4\n",
            "  Downloading bs4-0.0.1.tar.gz (1.1 kB)\n",
            "  Preparing metadata (setup.py) ... \u001b[?25l\u001b[?25hdone\n",
            "Requirement already satisfied: beautifulsoup4 in /usr/local/lib/python3.10/dist-packages (from bs4) (4.11.2)\n",
            "Requirement already satisfied: soupsieve>1.2 in /usr/local/lib/python3.10/dist-packages (from beautifulsoup4->bs4) (2.5)\n",
            "Building wheels for collected packages: bs4\n",
            "  Building wheel for bs4 (setup.py) ... \u001b[?25l\u001b[?25hdone\n",
            "  Created wheel for bs4: filename=bs4-0.0.1-py3-none-any.whl size=1256 sha256=999dae6d5d9d0a0d444dae14684ce771ad7b1f809552b9632465dcf9d62be866\n",
            "  Stored in directory: /root/.cache/pip/wheels/25/42/45/b773edc52acb16cd2db4cf1a0b47117e2f69bb4eb300ed0e70\n",
            "Successfully built bs4\n",
            "Installing collected packages: bs4\n",
            "Successfully installed bs4-0.0.1\n",
            "Requirement already satisfied: requests in /usr/local/lib/python3.10/dist-packages (2.31.0)\n",
            "Requirement already satisfied: charset-normalizer<4,>=2 in /usr/local/lib/python3.10/dist-packages (from requests) (3.3.0)\n",
            "Requirement already satisfied: idna<4,>=2.5 in /usr/local/lib/python3.10/dist-packages (from requests) (3.4)\n",
            "Requirement already satisfied: urllib3<3,>=1.21.1 in /usr/local/lib/python3.10/dist-packages (from requests) (2.0.7)\n",
            "Requirement already satisfied: certifi>=2017.4.17 in /usr/local/lib/python3.10/dist-packages (from requests) (2023.7.22)\n"
          ]
        }
      ],
      "source": [
        "!pip install bs4\n",
        "!pip install requests"
      ]
    },
    {
      "cell_type": "code",
      "source": [
        "import requests,re\n",
        "from bs4 import BeautifulSoup\n",
        "import pandas as pd"
      ],
      "metadata": {
        "id": "kVwxxsAdi_8q"
      },
      "execution_count": null,
      "outputs": []
    },
    {
      "cell_type": "code",
      "source": [
        "def review_scraper(url,page):\n",
        "  url=f\"{url}&pageNumber={page}\"\n",
        "  user_agent={\"user-agent\":\"Mozilla/5.0 (Windows NT 10.0; Win64; x64) AppleWebKit/537.36 (KHTML, like Gecko) Chrome/118.0.0.0 Safari/537.36\",}\n",
        "  response=requests.get(url=url,headers=user_agent)\n",
        "  soup=BeautifulSoup(response.content,\"lxml\")\n",
        "  reviews=[]\n",
        "  for review in soup.find_all(\"div\",{\"class\":\"a-section celwidget\"}):\n",
        "    name=review.find(\"span\",{\"class\":\"a-profile-name\"}).text\n",
        "    rating=review.find(\"i\",{\"data-hook\": \"review-star-rating\"}).text\n",
        "    comands=re.sub('\\s+', ' ', review.find(\"div\",{\"class\":\"a-row a-spacing-small review-data\"}).text)\n",
        "    data={\"Name\":name,\n",
        "          \"Rating\":rating,\n",
        "          \"Comands\":comands}\n",
        "    reviews.append(data)\n",
        "\n",
        "  return reviews\n",
        "\n",
        "url=\"https://www.amazon.in/Apple-iPhone-Pro-Max-256/product-reviews/B0CHX1K2ZC/ref=cm_cr_dp_d_show_all_btm?ie=UTF8&reviewerType=all_reviews\"\n",
        "page=1\n",
        "for review in review_scraper(url,page):\n",
        "  print(review)\n",
        "  print()\n"
      ],
      "metadata": {
        "colab": {
          "base_uri": "https://localhost:8080/"
        },
        "id": "lkJ306TYjKs_",
        "outputId": "e10f32b0-0099-4612-9054-5e9725a38aae"
      },
      "execution_count": null,
      "outputs": [
        {
          "output_type": "stream",
          "name": "stdout",
          "text": [
            "{'Name': 'Asambri Sajwan', 'Rating': '4.0 out of 5 stars', 'Comands': \" It's all worth it selling your kidney, nobody knows you bought your iPhone by selling your kidney the biggest flex you can have😎🗿 \"}\n",
            "\n",
            "{'Name': 'Saekirron', 'Rating': '3.0 out of 5 stars', 'Comands': ' If at all looking for pro model just because of lidar and action button and camera. Its not value for money as the charging and performance are not upto the mark for both pro and non pro models. I purchased iPhone 15 pro 128gb not happy '}\n",
            "\n",
            "{'Name': 'Abhishek Mukherjee', 'Rating': '5.0 out of 5 stars', 'Comands': ' No heating issue till now running well with the new software update I have installed lots of apps and the ph is running well '}\n",
            "\n",
            "{'Name': 'Placeholder', 'Rating': '3.0 out of 5 stars', 'Comands': ' Heats very much during charger. Even if apple type c charger is used.No much difference from 14 pro max. '}\n",
            "\n",
            "{'Name': 'MD Afroz Alam', 'Rating': '4.0 out of 5 stars', 'Comands': ' Best in class 😁🤣 with the power of A17 pro chipset is the best in the world more than Android '}\n",
            "\n",
            "{'Name': 'RudraKumar', 'Rating': '5.0 out of 5 stars', 'Comands': ' Till this date it is the fastest iPhone for gaming and all over daily usage .Strongest iPhone till now '}\n",
            "\n",
            "{'Name': 'Amazon Customer', 'Rating': '5.0 out of 5 stars', 'Comands': ' Good phone with all thing are there in it.... No need to go for samsung..Just go and enjoy it '}\n",
            "\n",
            "{'Name': 'KSHITIZ', 'Rating': '1.0 out of 5 stars', 'Comands': \" It seems to be highly expensive and on the other side it's features can't be matched up with Android.It doesn't have fast charging also unlike Android \"}\n",
            "\n",
            "{'Name': 'Amazon Customer', 'Rating': '5.0 out of 5 stars', 'Comands': \" Best phone ever seen it's the best phone in the earth worth buyable for those who are 4G iphone users. \"}\n",
            "\n",
            "{'Name': 'Playboy', 'Rating': '5.0 out of 5 stars', 'Comands': ' Got the info it is in stock from X (twitter). Usually always unavailable.Premium phone from a premium company. Original product. '}\n",
            "\n"
          ]
        }
      ]
    }
  ]
}